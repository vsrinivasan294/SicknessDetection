{
 "cells": [
  {
   "cell_type": "code",
   "execution_count": null,
   "metadata": {},
   "outputs": [],
   "source": [
    "from flask import Flask, render_template, url_for\n",
    "app = Flask(__name__)\n",
    "\n",
    "posts = [\n",
    "    {\n",
    "        'author': 'Corey Schafer',\n",
    "        'title': 'Blog Post 1',\n",
    "        'content': 'First post content',\n",
    "        'date_posted': 'April 20, 2018'\n",
    "    },\n",
    "    {\n",
    "        'author': 'Jane Doe',\n",
    "        'title': 'Blog Post 2',\n",
    "        'content': 'Second post content',\n",
    "        'date_posted': 'April 21, 2018'\n",
    "    }\n",
    "]\n",
    "\n",
    "\n",
    "@app.route(\"/\")\n",
    "@app.route(\"/home\")\n",
    "def home():\n",
    "    return render_template('home.html', posts=posts)\n",
    "\n",
    "\n",
    "@app.route(\"/about\")\n",
    "def about():\n",
    "    return render_template('about.html', title='About')\n",
    "\n",
    "\n",
    "if __name__ == '__main__':\n",
    "    app.run(debug=True)"
   ]
  }
 ],
 "metadata": {
  "kernelspec": {
   "display_name": "Python 3",
   "language": "python",
   "name": "python3"
  },
  "language_info": {
   "codemirror_mode": {
    "name": "ipython",
    "version": 3
   },
   "file_extension": ".py",
   "mimetype": "text/x-python",
   "name": "python",
   "nbconvert_exporter": "python",
   "pygments_lexer": "ipython3",
   "version": "3.6.6"
  }
 },
 "nbformat": 4,
 "nbformat_minor": 2
}
