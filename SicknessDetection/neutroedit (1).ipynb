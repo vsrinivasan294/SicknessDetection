{
 "cells": [
  {
   "cell_type": "code",
   "execution_count": 1,
   "metadata": {},
   "outputs": [
    {
     "ename": "ModuleNotFoundError",
     "evalue": "No module named 'cv2'",
     "output_type": "error",
     "traceback": [
      "\u001b[0;31m---------------------------------------------------------------------------\u001b[0m",
      "\u001b[0;31mModuleNotFoundError\u001b[0m                       Traceback (most recent call last)",
      "\u001b[0;32m<ipython-input-1-d9250302ae18>\u001b[0m in \u001b[0;36m<module>\u001b[0;34m()\u001b[0m\n\u001b[1;32m      2\u001b[0m \u001b[0;34m\u001b[0m\u001b[0m\n\u001b[1;32m      3\u001b[0m \u001b[0;31m# Standard imports\u001b[0m\u001b[0;34m\u001b[0m\u001b[0;34m\u001b[0m\u001b[0m\n\u001b[0;32m----> 4\u001b[0;31m \u001b[0;32mimport\u001b[0m \u001b[0mcv2\u001b[0m\u001b[0;34m\u001b[0m\u001b[0m\n\u001b[0m\u001b[1;32m      5\u001b[0m \u001b[0;32mimport\u001b[0m \u001b[0mnumpy\u001b[0m \u001b[0;32mas\u001b[0m \u001b[0mnp\u001b[0m\u001b[0;34m;\u001b[0m\u001b[0;34m\u001b[0m\u001b[0m\n\u001b[1;32m      6\u001b[0m \u001b[0;34m\u001b[0m\u001b[0m\n",
      "\u001b[0;31mModuleNotFoundError\u001b[0m: No module named 'cv2'"
     ]
    }
   ],
   "source": [
    "#!/usr/bin/python\n",
    "\n",
    "# Standard imports\n",
    "import cv2\n",
    "import numpy as np;\n",
    "\n",
    "# Setup SimpleBlobDetector parameters.\n",
    "params = cv2.SimpleBlobDetector_Params()\n",
    "\n",
    "# Change thresholds # THIS IS UNIQUE TO NEUTROPHILIA CAUSE IT'S DARK HUE\n",
    "params.minThreshold = 0\n",
    "params.maxThreshold = 150\n",
    "                      # AREA OF NEUTROPHILIA CELL IS LARGE\n",
    "# Filter by Area.\n",
    "params.filterByArea = True\n",
    "params.minArea = 1500\n",
    "params.maxArea = 2500\n",
    "\n",
    "#Filter by Circularity\n",
    "#params.filterByCircularity = True\n",
    "#params.minCircularity = 0\n",
    "#params.maxCircularity = 1\n",
    "\n",
    "#Filter by Color\n",
    "#params.filterByColor = True\n",
    "\n",
    "# Filter by Convexity\n",
    "                     # HIGH CONVEXITY FOR NEUTROPHILIA\n",
    "params.filterByConvexity = True\n",
    "params.minConvexity = 0.80\n",
    "params.maxConvexity = 0.99\n",
    "# Filter by Inertia \n",
    "                                   # Circular for neutrophilia\n",
    "params.filterByInertia = True\n",
    "params.minInertiaRatio = 0.80\n",
    "params.maxInertiaRatio = 0.99\n",
    "\n",
    "# Create a detector with the parameters\n",
    "ver = (cv2.__version__).split('.')\n",
    "if int(ver[0]) < 3 :\n",
    "\tdetector = cv2.SimpleBlobDetector(params)\n",
    "else : \n",
    "\tdetector = cv2.SimpleBlobDetector_create(params)\n",
    "\n",
    "    \n",
    "# Read image\n",
    "# Detect Most grey images as purple --> neutrophilia cells\n",
    "im = cv2.imread(\"neutrophilia.jpg\", cv2.IMREAD_GRAYSCALE)\n",
    "\n",
    "# Detect blobs.\n",
    "# detect neutrophilia blobs\n",
    "keypoints = detector.detect(im)\n",
    "\n",
    "im_with_keypoints = cv2.drawKeypoints(im, keypoints, np.array([]), (0,255,0), cv2.DRAW_MATCHES_FLAGS_DRAW_RICH_KEYPOINTS)\n",
    "\n",
    "nblobs = len(keypoints)\n",
    "\n",
    "print(nblobs)\n",
    "\n",
    "# Show blobs\n",
    "cv2.imshow(\"Keypoints\", im_with_keypoints)\n",
    "cv2.waitKey(0)"
   ]
  },
  {
   "cell_type": "code",
   "execution_count": null,
   "metadata": {},
   "outputs": [],
   "source": []
  }
 ],
 "metadata": {
  "kernelspec": {
   "display_name": "Python 3",
   "language": "python",
   "name": "python3"
  },
  "language_info": {
   "codemirror_mode": {
    "name": "ipython",
    "version": 3
   },
   "file_extension": ".py",
   "mimetype": "text/x-python",
   "name": "python",
   "nbconvert_exporter": "python",
   "pygments_lexer": "ipython3",
   "version": "3.6.6"
  }
 },
 "nbformat": 4,
 "nbformat_minor": 2
}
