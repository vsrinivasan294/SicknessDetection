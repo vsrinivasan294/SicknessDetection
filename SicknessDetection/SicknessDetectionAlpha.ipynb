{
 "cells": [
  {
   "cell_type": "code",
   "execution_count": null,
   "metadata": {},
   "outputs": [
    {
     "name": "stdout",
     "output_type": "stream",
     "text": [
      "25\n"
     ]
    }
   ],
   "source": [
    "#!/usr/bin/python\n",
    "\n",
    "# Standard imports\n",
    "import cv2\n",
    "import numpy as np;\n",
    "\n",
    "# Setup SimpleBlobDetector parameters.\n",
    "params = cv2.SimpleBlobDetector_Params()\n",
    "\n",
    "# Change thresholds\n",
    "params.minThreshold = 0\n",
    "params.maxThreshold = 255\n",
    "\n",
    "# Filter by Area.\n",
    "params.filterByArea = True\n",
    "params.minArea = 1\n",
    "params.maxArea = 60000\n",
    "\n",
    "#Filter by Circularity\n",
    "#params.filterByCircularity = True\n",
    "#params.minCircularity = 0\n",
    "#params.maxCircularity = 1\n",
    "\n",
    "#Filter by Color\n",
    "#params.filterByColor = True\n",
    "\n",
    "# Filter by Convexity\n",
    "params.filterByConvexity = True\n",
    "params.minConvexity = 0.01\n",
    "params.maxConvexity = 1\n",
    "    \n",
    "# Filter by Inertia\n",
    "params.filterByInertia = True\n",
    "params.minInertiaRatio = 0.01\n",
    "params.maxInertiaRatio = .20\n",
    "\n",
    "# Create a detector with the parameters\n",
    "ver = (cv2.__version__).split('.')\n",
    "if int(ver[0]) < 3 :\n",
    "\tdetector = cv2.SimpleBlobDetector(params)\n",
    "else : \n",
    "\tdetector = cv2.SimpleBlobDetector_create(params)\n",
    "\n",
    "    \n",
    "# Read image\n",
    "im = cv2.imread(\"sickle2.jpg\", cv2.IMREAD_GRAYSCALE)\n",
    "\n",
    "# Detect blobs.\n",
    "keypoints = detector.detect(im)\n",
    "\n",
    "# Draw detected blobs as red circles.\n",
    "# cv2.DRAW_MATCHES_FLAGS_DRAW_RICH_KEYPOINTS ensures\n",
    "# the size of the circle corresponds to the size of blob\n",
    "\n",
    "im_with_keypoints = cv2.drawKeypoints(im, keypoints, np.array([]), (0,255,0), cv2.DRAW_MATCHES_FLAGS_DRAW_RICH_KEYPOINTS)\n",
    "\n",
    "nblobs = len(keypoints)\n",
    "\n",
    "print(nblobs)\n",
    "\n",
    "# Show blobs\n",
    "cv2.imshow(\"Keypoints\", im_with_keypoints)\n",
    "cv2.waitKey(0)"
   ]
  },
  {
   "cell_type": "code",
   "execution_count": null,
   "metadata": {},
   "outputs": [],
   "source": []
  }
 ],
 "metadata": {
  "kernelspec": {
   "display_name": "Python 2",
   "language": "python",
   "name": "python2"
  },
  "language_info": {
   "codemirror_mode": {
    "name": "ipython",
    "version": 2
   },
   "file_extension": ".py",
   "mimetype": "text/x-python",
   "name": "python",
   "nbconvert_exporter": "python",
   "pygments_lexer": "ipython2",
   "version": "2.7.15"
  }
 },
 "nbformat": 4,
 "nbformat_minor": 2
}
