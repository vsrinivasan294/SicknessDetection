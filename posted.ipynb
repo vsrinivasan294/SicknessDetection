{
 "cells": [
  {
   "cell_type": "code",
   "execution_count": null,
   "metadata": {},
   "outputs": [],
   "source": [
    "from flask import Flask, render_template, url_for, flash, redirect\n",
    "from forms import RegistrationForm, LoginForm\n",
    "\n",
    "app = Flask(__name__)\n",
    "app.config['SECRET_KEY'] = '5791628bb0b13ce0c676dfde280ba245'\n",
    "\n",
    "posts = [\n",
    "    {\n",
    "        'author': 'Corey Schafer',\n",
    "        'title': 'Blog Post 1',\n",
    "        'content': 'First post content',\n",
    "        'date_posted': 'April 20, 2018'\n",
    "    },\n",
    "    {\n",
    "        'author': 'Jane Doe',\n",
    "        'title': 'Blog Post 2',\n",
    "        'content': 'Second post content',\n",
    "        'date_posted': 'April 21, 2018'\n",
    "    }\n",
    "]\n",
    "\n",
    "\n",
    "@app.route(\"/\")\n",
    "@app.route(\"/home\")\n",
    "def home():\n",
    "    return render_template('home.html', posts=posts)\n",
    "\n",
    "\n",
    "@app.route(\"/about\")\n",
    "def about():\n",
    "    return render_template('about.html', title='About')\n",
    "\n",
    "\n",
    "@app.route(\"/register\", methods=['GET', 'POST'])\n",
    "def register():\n",
    "    form = RegistrationForm()\n",
    "    if form.validate_on_submit():\n",
    "        flash(f'Account created for {form.username.data}!', 'success')\n",
    "        return redirect(url_for('home'))\n",
    "    return render_template('register.html', title='Register', form=form)\n",
    "\n",
    "\n",
    "@app.route(\"/login\", methods=['GET', 'POST'])\n",
    "def login():\n",
    "    form = LoginForm()\n",
    "    if form.validate_on_submit():\n",
    "        if form.email.data == 'admin@blog.com' and form.password.data == 'password':\n",
    "            flash('You have been logged in!', 'success')\n",
    "            return redirect(url_for('home'))\n",
    "        else:\n",
    "            flash('Login Unsuccessful. Please check username and password', 'danger')\n",
    "    return render_template('login.html', title='Login', form=form)\n",
    "\n",
    "\n",
    "if __name__ == '__main__':\n",
    "    app.run(debug=True)"
   ]
  }
 ],
 "metadata": {
  "kernelspec": {
   "display_name": "Python 3",
   "language": "python",
   "name": "python3"
  },
  "language_info": {
   "codemirror_mode": {
    "name": "ipython",
    "version": 3
   },
   "file_extension": ".py",
   "mimetype": "text/x-python",
   "name": "python",
   "nbconvert_exporter": "python",
   "pygments_lexer": "ipython3",
   "version": "3.6.6"
  }
 },
 "nbformat": 4,
 "nbformat_minor": 2
}
