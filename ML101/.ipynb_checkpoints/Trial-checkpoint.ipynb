{
 "cells": [
  {
   "cell_type": "code",
   "execution_count": null,
   "metadata": {},
   "outputs": [],
   "source": [
    "import pandas as pd\n",
    "import numpy as np\n",
    "from sklearn import linear_model\n",
    "\n",
    "#loading and separating our wine dataset into labels and features\n",
    "df = pd.read_csv('winequality-red.csv', delimiter=\";\")\n",
    "label = df['quality']\n",
    "features = df.drop('quality', axis=1)\n",
    "\n",
    "#defining our linear regression estimator and training it with our wine data\n",
    "regr = linear_model.LinearRegression()\n",
    "regr.fit(features, label)\n",
    "\n",
    "#using our trained model to predict a fake wine\n",
    "#each number represents a feature like pH, acidity, etc.\n",
    "print regr.predict([[7.4,0.66,0,1.8,0.075,13,40,0.9978,3.51,0.56,9.4]]).tolist()"
   ]
  }
 ],
 "metadata": {
  "kernelspec": {
   "display_name": "Python 3",
   "language": "python",
   "name": "python3"
  },
  "language_info": {
   "codemirror_mode": {
    "name": "ipython",
    "version": 3
   },
   "file_extension": ".py",
   "mimetype": "text/x-python",
   "name": "python",
   "nbconvert_exporter": "python",
   "pygments_lexer": "ipython3",
   "version": "3.6.5"
  }
 },
 "nbformat": 4,
 "nbformat_minor": 2
}
